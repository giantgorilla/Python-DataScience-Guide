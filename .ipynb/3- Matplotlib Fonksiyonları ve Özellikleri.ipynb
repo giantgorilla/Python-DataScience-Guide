#Tüm kodlar Jupyter Notebook üzerinden yazılmıştır. Çalıştırmak için kod bloklarının üzerinde yazan Run Cell'e tıklanarak interaktif bir şekilde çalışması sağlanabilir.
#!/usr/bin/env python
# coding: utf-8

# In[85]:


#Kullanılacak olan kütüphanelerin import edilmesi.
import numpy as np
import pandas as pd
import matplotlib.pyplot as plt


# In[86]:


plt.plot([1,2,3],[4,5,1]) #X ve Y düzleminde birbirine denk gelen noktaları çizer.
plt.show() #Print Fonksiyonu ile benzer özelliğe sahiptir.


# In[87]:


x = np.linspace(-np.pi, np.pi, 50) #- pi ile pi arasında grafik çizdirme. 
plt.plot(x, np.sin(x)) #Sinüs Grafiği


# In[88]:


plt.plot(x, np.cos(x), label = "Kosinüs", linestyle = "--") #Kosinüs Grafiği
plt.plot(x, np.sin(x), label = "Sinüs", linestyle = "-.") #Sinüs Grafiği
plt.legend() #Labelleri Göstermek İçin Kullanılır. 
#Color, linestyle, Linewidth, Alpha, Marker
#Kullanılacak özellikleri ve parametreleri Shift + Tab ile görebilirsiniz.


# # Stiller

# In[89]:


#plt.style.available? Style Listesini Gösterir.


# In[90]:


plt.style.use("ggplot")
plt.plot(x, np.cos(x), label = "Kosinüs", linestyle = "--") #Kosinüs Grafiği
plt.plot(x, np.sin(x), label = "Sinüs", linestyle = "-.") #Sinüs Grafiği
plt.legend() #Labellerin gösterilebilmesi için gereklidir.
plt.xlim(-2, 2) #X ekseninde gösterilmesi istenen min ve max değer aralığı
plt.ylim(-0.75, 1) #Y ekseninde gösterilmesi istenen min ve max değer aralığı
plt.axis("tight") #Otomatik olarak min ve max değer aralığı verir.


# In[91]:


plt.style.use("ggplot")
plt.plot(x, np.cos(x), label = "Kosinüs", linestyle = "--") #Kosinüs Grafiği
plt.plot(x, np.sin(x), label = "Sinüs", linestyle = "-.") #Sinüs Grafiği
plt.legend()
plt.xlim(-2, 2) #X ekseninde gösterilmesi istenen min ve max değer aralığı
plt.ylim(-0.75, 1) #Y ekseninde gösterilmesi istenen min ve max değer aralığı
plt.axis("tight") #Otomatik olarak min ve max değer aralığı verir.
plt.xlabel("x") #Y düzlemine isim vermek için kullanılır.
plt.ylabel("cos(x)-sin(x)") #X düzlemine isim vermek için kullanılır.


# In[92]:


plt.style.use("ggplot")
plt.plot(x, np.cos(x), label = "Kosinüs", linestyle = "--") #Kosinüs Grafiği
plt.plot(x, np.sin(x), label = "Sinüs", linestyle = "-.") #Sinüs Grafiği
plt.legend()
plt.xlim(-2, 2) #X ekseninde gösterilmesi istenen min ve max değer aralığı
plt.ylim(-0.75, 1) #Y ekseninde gösterilmesi istenen min ve max değer aralığı
plt.axis("tight") #Otomatik olarak min ve max değer aralığı verir.
plt.xlabel("x") #X ekseninin adı
plt.ylabel("cos(x)-sin(x)") #Y ekseninin adı
plt.title("Sinüs - Kosinüs Grafiği") #Grafiiğin Başlığı


# In[93]:


get_ipython().run_line_magic('matplotlib', 'inline #Inline - Notebook')


# In[94]:


fig = plt.figure()
plt.plot(x, np.cos(x), label = "Kosinüs", linestyle = "--") #Kosinüs Grafiği
plt.plot(x, np.sin(x), label = "Sinüs", linestyle = "-.") #Sinüs Grafiği
plt.legend()
plt.xlim(-2, 2) #X ekseninde gösterilmesi istenen min ve max değer aralığı
plt.ylim(-0.75, 1) #Y ekseninde gösterilmesi istenen min ve max değer aralığı
plt.axis("tight") #Otomatik olarak min ve max değer aralığı verir.
plt.xlabel("x") #X ekseninin adı
plt.ylabel("cos(x)-sin(x)") #Y ekseninin adı
plt.title("Sinüs - Kosinüs Grafiği") #Grafiiğin Başlığı
fig.savefig("figur.svg") #Grafiği çalışma klasörünün içine kaydeder.


# # Grafik Çeşitleri
# 1. Histogram
# 2. Bar Grafiği
# 3. Scatter 
# 

# In[95]:


np.random.seed(12345)
x1_koor = np.random.randint(10, size = 20) #En fazla alabileceği değer 10 olan 20 adet random sayı üretir.
y1_koor = np.random.randint(5, size = 20) #En fazla alabileceği değer 5 olan 20 adet random sayı üretir.
x2_koor = np.random.randint(10, size = 20)
y2_koor = np.random.randint(5, size = 20)


# In[96]:


x1_koor


# In[97]:


x2_koor


# In[98]:


y1_koor


# In[99]:


y2_koor


# In[100]:


plt.bar(x1_koor, y1_koor, label = "1. Koordinatlar") 
plt.bar(x2_koor, y2_koor, label = "2. Koordinatlar")
plt.legend(loc = 0) #Loc ile labellerin yerleri değiştirilebilir.


# In[101]:


x = np.arange(3)
plt.bar(x, height = [1, 2, 3])
plt.xticks(x,['a', 'b', 'c']) #Kategorize etmek, sınıflandırmak.


# In[102]:


np.random.seed(12345)
k_yas = np.random.randint(low = 1, high = 75, size = 100) #1 - 75 aralığında 100 adet rastgele yaş üretir.
e_yas = np.random.randint(low = 1, high = 75, size = 100) #1 - 75 aralığında 100 adet rastgele yaş üretir.


# In[103]:


plt.hist(k_yas, label = "Kadın Yaşları") #labellere isim verir.
plt.hist(e_yas, label = "Erkek Yaşları") #Labellere isim verir.
plt.legend()


# In[104]:


np.random.seed(12345)
x = np.random.normal(loc = 0, scale = 1, size = 10000)
plt.hist(x, density = True, bins = 30) #Density = Olasılık(Yoğunluk)


# In[105]:


veriler = pd.read_csv("heart.csv")


# In[106]:


veriler.head() #Datasetin ilk 5 verisini listeler.


# In[107]:


veriler.info() #Verilerin nasıl olarak tanımlandığını listeler.


# In[108]:


veriler.trestbps.unique() #Trestbps'in altında olan verileri listeler.


# In[109]:


#Plot çizebilmemiz için numeric data olması gerekir, aksi halde hata verir.


# In[110]:


#veriler.trestbps.replace(to_replace = "?", value = 0) 
#Replace komutuyla istediğimiz değeri istediğimiz bir değerle değiştirebiliriz.
#Replace komutundan sonra yapacağımız bir adım ise;
#veriler.trestbps.astype(np.int64) bu fonksiyon ile veri tipi int64 olarak değiştirilir.


# In[111]:


#plt.plot(veriler.trestbps)
plt.plot(veriler.trestbps[0:100]) # 0 - 100 arasındaki değerleri çizdirir.


# In[112]:


plt.boxplot(x = veriler.trestbps);


# # Çoklu Grafikler

# In[113]:


fig = plt.figure()


# In[114]:


ax = plt.axis() #Figürün içine bir koordinat düzlemi çizdirir.


# In[115]:


fig, ax = plt.subplots(2, 2)
x = [1, 5, 7]
y = [4, 6, 10]
z = [10, 11, 12]
ax[0, 0].plot(x, y) #0. index değerine sahip 1. grafik
ax[0, 1].plot(x, z) #1. index değerine sahip 2. grafik
ax[1, 0].scatter(x, y) #2. index değerine sahip 3. grafik
ax[1, 1].bar(x, y) #3. index değerine sahip 4. grafik


# In[116]:


fig, ax = plt.subplots(2, 2, sharex = True, sharey = True)
#sharex ve sharey x ve y ekseninin ortak kullanılıp kullanılmayacağını belirtir.
x = [1, 4, 7, 12, 20]
y1 = [3, 5, 8, 13, 21]
y2 = [5, 6, 9, 14, 22]
ax[0, 0].plot(x, y1, color = 'r')
ax[0, 1].scatter(x, y2)
ax[1, 0].hist(y1)
ax[1,1].barh(x, y2)
#barh() Horizontal yatay eksende çizdirmeye yarar.


# In[117]:


fig, ax = plt.subplots(2, 2, figsize = (5, 4))
ax[0, 0].text (0.5, 0.5, 'Birinci Hücre') #fontsize = 10 yazı büyüklüğü ayarlanabilir.












